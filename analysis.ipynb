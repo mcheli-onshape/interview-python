{
 "cells": [
  {
   "cell_type": "markdown",
   "id": "7c755d50",
   "metadata": {},
   "source": [
    "# Data Analysis Question\n",
    "\n",
    "Inside `feature_events.csv` is a series of product events (7 and 8) for \"Add Partstudio Feature\" and \"Remove Partstudio Feature\".  To start, \"Explore\" this data and start to get an understanding for its structure.  Some example questions which may help you get started (but feel free to explore further yourself as well)...\n",
    "- \"What ais the most used feature type?\"\n",
    "- \"What is the ratio of events being added to removed?\"\n",
    "- \"What is the average number of events per user?\"\n",
    "\n",
    "Next, consider the implications of this data for a feature that \"predicts\" the next feature that a user will do.  Would this feature be useful?  Would this feature need to be user-specific?  How would you need to manipulate this data to make it useful for an AI predication?"
   ]
  },
  {
   "cell_type": "code",
   "execution_count": 2,
   "id": "66bbaf31",
   "metadata": {},
   "outputs": [
    {
     "name": "stdout",
     "output_type": "stream",
     "text": [
      "hello world\n"
     ]
    }
   ],
   "source": [
    "import pandas as pd\n",
    "\n",
    "print('hello world')"
   ]
  }
 ],
 "metadata": {
  "kernelspec": {
   "display_name": ".venv",
   "language": "python",
   "name": "python3"
  },
  "language_info": {
   "codemirror_mode": {
    "name": "ipython",
    "version": 3
   },
   "file_extension": ".py",
   "mimetype": "text/x-python",
   "name": "python",
   "nbconvert_exporter": "python",
   "pygments_lexer": "ipython3",
   "version": "3.12.3"
  }
 },
 "nbformat": 4,
 "nbformat_minor": 5
}
